{
 "cells": [
  {
   "cell_type": "markdown",
   "id": "8e7a3ea5-034e-4ae1-9a5a-0eb373bbf321",
   "metadata": {},
   "source": [
    "# VQE for enthalpy of Water formation\n",
    "\n",
    "The challenge is to find the enthalpy of formation of water using Qiskit Nature. The geometries of $H_2O$, $H_2$ and $O_2$ molecules are as follows</br></br>\n",
    "<ul>\n",
    "<li>O2 = \"O -0.740589000     -1.272401000      0.000000000; O       -1.962230000     -1.272401000      0.000000000\"</li>\n",
    "<li>H2 = \"H 0 0 0; H 0 0 0.735\"</li>\n",
    "<li>H2O = \"O       -0.266403000      2.257035000      0.000000000; H        0.719489000      2.338653000      0.000000000; H       -0.518565000      3.213623000      0.000000000\"</li>\n",
    "\n"
   ]
  },
  {
   "cell_type": "code",
   "execution_count": null,
   "id": "bee5b9f0-ea29-47a5-bf34-3d9a24fd74df",
   "metadata": {},
   "outputs": [],
   "source": []
  },
  {
   "cell_type": "code",
   "execution_count": null,
   "id": "c3836a16-80c0-40f6-bbb3-1faeaf1e6941",
   "metadata": {},
   "outputs": [],
   "source": []
  }
 ],
 "metadata": {
  "kernelspec": {
   "display_name": "Python 3 (ipykernel)",
   "language": "python",
   "name": "python3"
  },
  "language_info": {
   "codemirror_mode": {
    "name": "ipython",
    "version": 3
   },
   "file_extension": ".py",
   "mimetype": "text/x-python",
   "name": "python",
   "nbconvert_exporter": "python",
   "pygments_lexer": "ipython3",
   "version": "3.9.13"
  }
 },
 "nbformat": 4,
 "nbformat_minor": 5
}
