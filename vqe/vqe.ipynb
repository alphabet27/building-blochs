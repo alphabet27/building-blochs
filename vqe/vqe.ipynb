{
 "cells": [
  {
   "cell_type": "markdown",
   "id": "8e7a3ea5-034e-4ae1-9a5a-0eb373bbf321",
   "metadata": {},
   "source": [
    "# VQE for enthalpy of Water formation\n",
    "\n",
    "The challenge is to find the enthalpy of formation of water. The geometries of $H_2O$, $H_2$ and $O_2$ molecules are as follows</br></br>\n",
    "<ul>\n",
    "<li>O2 = \"O -0.740589000     -1.272401000      0.000000000; O       -1.962230000     -1.272401000      0.000000000\"</li>\n",
    "<li>H2 = \"H 0 0 0; H 0 0 0.735\"</li>\n",
    "<li>H2O = \"O       -0.266403000      2.257035000      0.000000000; H        0.719489000      2.338653000      0.000000000; H       -0.518565000      3.213623000      0.000000000\"</li></ul>\n",
    "</br>"
   ]
  },
  {
   "cell_type": "markdown",
   "id": "bee5b9f0-ea29-47a5-bf34-3d9a24fd74df",
   "metadata": {},
   "source": [
    "## Procedure\n",
    "\n",
    "<ol>\n",
    "<li>Find the ground state energies of $H_2O$, $O_2$ and $H_2$ and the energy required will be <p>\n",
    "    $E_f = E_{H2O} – (\\frac{1}{2} E_{O2} + E_{H2})$</p></li></br>\n",
    "\n",
    "<li>Use the basis set 321G for all the molecules.</li></br>\n",
    "<li>Use the Active space transformer to reduce the problem from involving multiple quantum states to two states.</li></br>\n",
    "<li>Use the following solver\n",
    "    <p><code>vqe_solver = VQEUCCFactory(Estimator(), UCCSD(), SLSQP())</code></p></li></br>\n",
    "<li>Converter or mapper to be used is Jordan Wigner.</li>\n",
    "</ol>\n"
   ]
  },
  {
   "cell_type": "code",
   "execution_count": null,
   "id": "c3836a16-80c0-40f6-bbb3-1faeaf1e6941",
   "metadata": {},
   "outputs": [],
   "source": []
  }
 ],
 "metadata": {
  "kernelspec": {
   "display_name": "Python 3 (ipykernel)",
   "language": "python",
   "name": "python3"
  },
  "language_info": {
   "codemirror_mode": {
    "name": "ipython",
    "version": 3
   },
   "file_extension": ".py",
   "mimetype": "text/x-python",
   "name": "python",
   "nbconvert_exporter": "python",
   "pygments_lexer": "ipython3",
   "version": "3.9.13"
  }
 },
 "nbformat": 4,
 "nbformat_minor": 5
}
