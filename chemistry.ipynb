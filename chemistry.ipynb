{
 "cells": [
  {
   "cell_type": "markdown",
   "id": "e8385c1f-4eb1-4e1e-9c39-105173e50ba8",
   "metadata": {},
   "source": [
    "# Diheadral angles of conformers of Ethane\n",
    "\n",
    "<div align=\"right\"> by Qkrishi</div>\n",
    "\n"
   ]
  },
  {
   "cell_type": "code",
   "execution_count": 2,
   "id": "15dbcf6a-e2f1-429b-92f2-b6082a845a2d",
   "metadata": {},
   "outputs": [
    {
     "name": "stdout",
     "output_type": "stream",
     "text": [
      "Tue Dec 20 15:01:19 IST 2022\n"
     ]
    }
   ],
   "source": [
    "!date"
   ]
  },
  {
   "cell_type": "markdown",
   "id": "1b704f56-4f53-4ef6-881b-e26e90374c34",
   "metadata": {},
   "source": [
    "## Defining the problem in PySCF driver"
   ]
  },
  {
   "cell_type": "code",
   "execution_count": 7,
   "id": "cf7aedef-68a5-4be4-b67b-6f4d1a4f53f2",
   "metadata": {},
   "outputs": [],
   "source": [
    "from qiskit_nature.units import DistanceUnit\n",
    "from qiskit_nature.second_q.drivers import PySCFDriver\n",
    "\n",
    "driver = PySCFDriver(\n",
    "    \n",
    "    \n",
    "    atom=\"C 0.00000000 0.00000000 0.76532900; H -0.51007400 0.88446900 1.16448900; H 1.02100900   -0.00049700    1.16448900; H -0.51093500   -0.88397100    1.16448900;  C 0.00000000 0.00000000 -0.76532900; H 0.51093500 -0.88397100 -1.164489; H -1.02100900 -0.00049700 -1.16448900; H 0.51007400 0.88446900 -1.16448900\",\n",
    "       \n",
    "    \n",
    "    basis=\"sto3g\",\n",
    "    charge=0,\n",
    "    spin=0,\n",
    "    unit=DistanceUnit.ANGSTROM\n",
    ")\n",
    "\n",
    "es_problem = driver.run()"
   ]
  },
  {
   "cell_type": "code",
   "execution_count": 8,
   "id": "2351a673-a273-48eb-af85-63544eeff91e",
   "metadata": {},
   "outputs": [
    {
     "name": "stdout",
     "output_type": "stream",
     "text": [
      "<qiskit_nature.second_q.problems.electronic_structure_problem.ElectronicStructureProblem object at 0x7f1ce89f11f0>\n"
     ]
    }
   ],
   "source": [
    "problem = driver.run()\n",
    "print(problem)"
   ]
  },
  {
   "cell_type": "markdown",
   "id": "56d8a02c-301f-481d-8697-7b06725fcc2c",
   "metadata": {},
   "source": [
    "## The Jordan-Wigner Mapping\n"
   ]
  },
  {
   "cell_type": "code",
   "execution_count": 9,
   "id": "8e7dfc27-e4ea-4391-a010-8dc981732d82",
   "metadata": {},
   "outputs": [
    {
     "name": "stdout",
     "output_type": "stream",
     "text": [
      "32\n",
      "CPU times: user 1min 11s, sys: 1.03 s, total: 1min 12s\n",
      "Wall time: 1min 12s\n"
     ]
    }
   ],
   "source": [
    "%%time\n",
    "from qiskit_nature.second_q.mappers import JordanWignerMapper\n",
    "mapper = JordanWignerMapper()\n",
    "fermionic_op = problem.hamiltonian.second_q_op()\n",
    "qubit_jw_op = mapper.map(fermionic_op)\n",
    "print(qubit_jw_op.num_qubits)"
   ]
  },
  {
   "cell_type": "markdown",
   "id": "c55fcbcf-858f-4004-8652-fceb9023baf7",
   "metadata": {},
   "source": [
    "### Qubit Conversion"
   ]
  },
  {
   "cell_type": "code",
   "execution_count": 14,
   "id": "bd80fd56-0f00-4b63-93d3-e1be749ba047",
   "metadata": {},
   "outputs": [
    {
     "name": "stdout",
     "output_type": "stream",
     "text": [
      "29\n",
      "CPU times: user 1min 23s, sys: 592 ms, total: 1min 23s\n",
      "Wall time: 1min 23s\n"
     ]
    }
   ],
   "source": [
    "%%time\n",
    "from qiskit_nature.second_q.mappers import QubitConverter\n",
    "\n",
    "converter = QubitConverter(JordanWignerMapper(), z2symmetry_reduction=\"auto\")\n",
    "\n",
    "qubit_op = converter.convert(fermionic_op, sector_locator=problem.symmetry_sector_locator)\n",
    "print(qubit_op.num_qubits)"
   ]
  },
  {
   "cell_type": "markdown",
   "id": "3f30f8d4-81a5-477d-a74d-ee142565b044",
   "metadata": {},
   "source": [
    "## Pairity Mapping"
   ]
  },
  {
   "cell_type": "code",
   "execution_count": null,
   "id": "6ca96ddd-835f-4223-a7c3-acfa4763c8b4",
   "metadata": {},
   "outputs": [
    {
     "name": "stdout",
     "output_type": "stream",
     "text": [
      "32\n",
      "CPU times: user 1min 8s, sys: 512 ms, total: 1min 8s\n",
      "Wall time: 1min 8s\n"
     ]
    }
   ],
   "source": [
    "%%time\n",
    "\n",
    "from qiskit_nature.second_q.mappers import ParityMapper\n",
    "\n",
    "mapper = ParityMapper()\n",
    "\n",
    "qubit_p_op = mapper.map(fermionic_op)\n",
    "print(qubit_p_op.num_qubits)"
   ]
  },
  {
   "cell_type": "code",
   "execution_count": 53,
   "id": "65112c58-41d8-4969-8361-a9437f393837",
   "metadata": {},
   "outputs": [
    {
     "name": "stdout",
     "output_type": "stream",
     "text": [
      "30\n",
      "CPU times: user 1min 15s, sys: 376 ms, total: 1min 15s\n",
      "Wall time: 1min 15s\n"
     ]
    }
   ],
   "source": [
    "%%time\n",
    "converter = QubitConverter(ParityMapper(), two_qubit_reduction=True)\n",
    "qubit_op = converter.convert(fermionic_op, num_particles=problem.num_particles)\n",
    "print(qubit_op.num_qubits)"
   ]
  },
  {
   "cell_type": "code",
   "execution_count": 52,
   "id": "2aeeb1bd-547e-4a54-90b0-4648f37395ac",
   "metadata": {},
   "outputs": [
    {
     "name": "stdout",
     "output_type": "stream",
     "text": [
      "32\n",
      "CPU times: user 1min 7s, sys: 352 ms, total: 1min 8s\n",
      "Wall time: 1min 8s\n"
     ]
    }
   ],
   "source": [
    "%%time\n",
    "\n",
    "converter = QubitConverter(ParityMapper(), two_qubit_reduction=True) #, z2symmetry_reduction=\"auto\")\n",
    "\n",
    "qubit_op = converter.convert(fermionic_op, sector_locator=problem.symmetry_sector_locator)\n",
    "print(qubit_op.num_qubits)"
   ]
  },
  {
   "cell_type": "markdown",
   "id": "dfad3fcf-eb6a-4615-ad71-ea7465b37412",
   "metadata": {},
   "source": [
    "## Initialise VQE"
   ]
  },
  {
   "cell_type": "code",
   "execution_count": 54,
   "id": "d21bfa25-603d-41c2-95df-8ab741f72204",
   "metadata": {},
   "outputs": [
    {
     "name": "stdout",
     "output_type": "stream",
     "text": [
      "CPU times: user 5.59 ms, sys: 13 µs, total: 5.6 ms\n",
      "Wall time: 5.39 ms\n"
     ]
    }
   ],
   "source": [
    "%%time\n",
    "\n",
    "from qiskit.algorithms.optimizers import SLSQP\n",
    "from qiskit.primitives import Estimator\n",
    "from qiskit_nature.second_q.algorithms import VQEUCCFactory\n",
    "from qiskit_nature.second_q.circuit.library import UCCSD\n",
    "\n",
    "vqe_solver = VQEUCCFactory(Estimator(), UCCSD(), SLSQP())\n",
    "\n",
    "\n",
    "from qiskit.algorithms.minimum_eigensolvers import VQE\n",
    "from qiskit.circuit.library import TwoLocal\n",
    "\n",
    "tl_circuit = TwoLocal(\n",
    "    rotation_blocks=[\"h\", \"rx\"],\n",
    "    entanglement_blocks=\"cz\",\n",
    "    entanglement=\"full\",\n",
    "    reps=2,\n",
    "    parameter_prefix=\"y\",\n",
    ")\n",
    "\n",
    "from qiskit_nature.second_q.algorithms import GroundStateEigensolver\n",
    "\n",
    "calc = GroundStateEigensolver(converter, vqe_solver)"
   ]
  },
  {
   "cell_type": "code",
   "execution_count": null,
   "id": "123060bd-e3cd-40c4-ac3d-e41e69bed5ca",
   "metadata": {},
   "outputs": [],
   "source": []
  },
  {
   "cell_type": "code",
   "execution_count": null,
   "id": "06e449eb-2971-44e8-8350-0cc0b4f0c56d",
   "metadata": {},
   "outputs": [],
   "source": []
  }
 ],
 "metadata": {
  "kernelspec": {
   "display_name": "Python 3 (ipykernel)",
   "language": "python",
   "name": "python3"
  },
  "language_info": {
   "codemirror_mode": {
    "name": "ipython",
    "version": 3
   },
   "file_extension": ".py",
   "mimetype": "text/x-python",
   "name": "python",
   "nbconvert_exporter": "python",
   "pygments_lexer": "ipython3",
   "version": "3.9.13"
  }
 },
 "nbformat": 4,
 "nbformat_minor": 5
}
