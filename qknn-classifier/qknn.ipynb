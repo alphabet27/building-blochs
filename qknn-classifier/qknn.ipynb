{
 "cells": [
  {
   "cell_type": "markdown",
   "id": "f9334cbc-69c5-4bc3-ac5d-f0d37278bc9f",
   "metadata": {},
   "source": [
    "# Quantum K-Nearest Neighbour Classifier for MNIST digits dataset\n",
    "\n",
    "The following notebook should guide you to build a Quantum KNN classifier in order to classify the MNIST digits dataset. You can refer to the paper <a href=\"daniel_kok_4_maart_2021.pdf\">daniel_kok_4_maart_2021.pdf</a> for more details."
   ]
  },
  {
   "cell_type": "markdown",
   "id": "71bf5488-ceba-4a4e-bc2f-7dbac8412ec2",
   "metadata": {},
   "source": [
    "## Required imports"
   ]
  },
  {
   "cell_type": "code",
   "execution_count": null,
   "id": "c36bfbb8-dd7b-41b5-8635-15c628c15b53",
   "metadata": {},
   "outputs": [],
   "source": [
    "\n",
    "\n"
   ]
  },
  {
   "cell_type": "markdown",
   "id": "f8df702e-c2dd-4a00-86f0-34bcaa67e324",
   "metadata": {},
   "source": [
    "## Dataset\n",
    "\n",
    "MNIST dataset is a collection of 60,000 training and 10,000 test images (28x28) (black and white) of handwritten digits between 0-9 for developing machine learning models. The dataset can be downloaded in csv format from the following links <a href='https://pjreddie.com/media/files/mnist_train.csv'>mnist_train.csv</a> and <a href='https://pjreddie.com/media/files/mnist_test.csv'>mnist_test.csv</a> You can scale the dataset as per your convenience. The objective is to build a Quantum K-Nearest Neighbour Classifier for recognizing the digits."
   ]
  },
  {
   "cell_type": "markdown",
   "id": "c6f486f3-996e-4396-86cc-693cc0c2891e",
   "metadata": {},
   "source": [
    "## Scaling the data\n",
    "\n",
    "The data consists of 28*28 images which is often too much for quantum computing. You may reshape the images into 8x8, 16x16 or whatever dimensions you like in the cell below. If you do not wish to scale it, leave it blank."
   ]
  },
  {
   "cell_type": "code",
   "execution_count": null,
   "id": "795234be-d973-4346-8827-95b189f8eaac",
   "metadata": {},
   "outputs": [],
   "source": [
    "\n",
    "\n",
    "\n"
   ]
  },
  {
   "cell_type": "markdown",
   "id": "b1ba7717-96d9-4883-ab71-7cdda07aea5e",
   "metadata": {},
   "source": [
    "## Quantum KNN Model\n",
    "\n",
    "For the model you may refer the paper <a href=\"daniel_kok_4_maart_2021.pdf\">Quantum KNN</a></br>\n",
    "Accordingly make your model in the cells below."
   ]
  },
  {
   "cell_type": "code",
   "execution_count": null,
   "id": "8ce4e868-22df-4e38-8362-9a2a437b8543",
   "metadata": {},
   "outputs": [],
   "source": [
    "\n",
    "\n",
    "\n"
   ]
  },
  {
   "cell_type": "markdown",
   "id": "310b5613-2924-4244-831e-446473589edd",
   "metadata": {},
   "source": [
    "## Testing the model\n",
    "\n",
    "Test the model in the cells below. This result will be considered for evaluation."
   ]
  },
  {
   "cell_type": "code",
   "execution_count": null,
   "id": "e0a6ddd7-c33e-4e95-8cc5-2c8b00a0a627",
   "metadata": {},
   "outputs": [],
   "source": [
    "\n",
    "\n",
    "\n"
   ]
  },
  {
   "cell_type": "code",
   "execution_count": null,
   "id": "03b74f3b-d932-48c5-b69b-2ea90d502441",
   "metadata": {},
   "outputs": [],
   "source": []
  }
 ],
 "metadata": {
  "kernelspec": {
   "display_name": "Python 3 (ipykernel)",
   "language": "python",
   "name": "python3"
  },
  "language_info": {
   "codemirror_mode": {
    "name": "ipython",
    "version": 3
   },
   "file_extension": ".py",
   "mimetype": "text/x-python",
   "name": "python",
   "nbconvert_exporter": "python",
   "pygments_lexer": "ipython3",
   "version": "3.9.13"
  }
 },
 "nbformat": 4,
 "nbformat_minor": 5
}
