{
 "cells": [
  {
   "cell_type": "markdown",
   "id": "f9334cbc-69c5-4bc3-ac5d-f0d37278bc9f",
   "metadata": {},
   "source": [
    "# Quantum K-Nearest Neighbour Classifier for MNIST digits dataset\n",
    "\n",
    "The following notebook should guide you to build a Quantum KNN classifier in order to classify the MNIST digits dataset. "
   ]
  },
  {
   "cell_type": "code",
   "execution_count": null,
   "id": "6ef1b05c-9e71-4456-84c0-0bea3401308a",
   "metadata": {},
   "outputs": [],
   "source": []
  },
  {
   "cell_type": "code",
   "execution_count": null,
   "id": "afdc8938-6bc8-4851-ab2a-a83d1b46bdd4",
   "metadata": {},
   "outputs": [],
   "source": []
  }
 ],
 "metadata": {
  "kernelspec": {
   "display_name": "Python 3 (ipykernel)",
   "language": "python",
   "name": "python3"
  },
  "language_info": {
   "codemirror_mode": {
    "name": "ipython",
    "version": 3
   },
   "file_extension": ".py",
   "mimetype": "text/x-python",
   "name": "python",
   "nbconvert_exporter": "python",
   "pygments_lexer": "ipython3",
   "version": "3.9.13"
  }
 },
 "nbformat": 4,
 "nbformat_minor": 5
}
