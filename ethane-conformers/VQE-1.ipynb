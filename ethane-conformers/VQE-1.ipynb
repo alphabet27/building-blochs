{
 "cells": [
  {
   "cell_type": "markdown",
   "id": "7be913a3-efd0-4afc-ae3a-269c6b3a374b",
   "metadata": {},
   "source": [
    "# Sample VQE\n",
    "\n",
    "This notebook has a sample of how to use VQE in order to solve for the conformer shown in the image below. You can use this algorithm to solve for all other confomers with angles ranging from $0-2\\pi$ <img src=\"conf1.jpg\">"
   ]
  },
  {
   "cell_type": "markdown",
   "id": "53193096-6177-46ad-85d2-563922ec776d",
   "metadata": {},
   "source": [
    "## Required Imports"
   ]
  },
  {
   "cell_type": "code",
   "execution_count": 1,
   "id": "e4056da5-fd71-4ab1-955f-1c98de71788a",
   "metadata": {},
   "outputs": [],
   "source": [
    "from qiskit_nature.units import DistanceUnit                                  #Angstrom unit\n",
    "from qiskit_nature.second_q.drivers import PySCFDriver                        #PySCF Driver\n",
    "from qiskit_nature.second_q.transformers import ActiveSpaceTransformer        #ActiveSpaceTransformer\n",
    "from qiskit_nature.second_q.mappers import JordanWignerMapper                 #Mappers\n"
   ]
  },
  {
   "cell_type": "markdown",
   "id": "f706a15b-c1f6-47e5-9613-b225614eb1cc",
   "metadata": {},
   "source": [
    "## Loading the drivers"
   ]
  },
  {
   "cell_type": "code",
   "execution_count": 2,
   "id": "8ab26b0a-8d3a-4dc1-8a50-880f68f07ea1",
   "metadata": {},
   "outputs": [
    {
     "name": "stdout",
     "output_type": "stream",
     "text": [
      "CPU times: user 553 ms, sys: 31.9 ms, total: 585 ms\n",
      "Wall time: 3.01 s\n"
     ]
    }
   ],
   "source": [
    "%%time\n",
    "ethylene=\"C 0.00000000 0.00000000 0.76532900; H -0.51007400 0.88446900 1.16448900; H 1.02100900   -0.00049700    1.16448900; H -0.51093500   -0.88397100    1.16448900;  C 0.00000000 0.00000000 -0.76532900; H 0.51093500 -0.88397100 -1.164489; H -1.02100900 -0.00049700 -1.16448900; H 0.51007400 0.88446900 -1.16448900\"\n",
    "driver = PySCFDriver(\n",
    "    \n",
    "    \n",
    "    atom=ethylene,\n",
    "       \n",
    "    \n",
    "    basis=\"sto3g\",\n",
    "    charge=0,\n",
    "    spin=0,\n",
    "    unit=DistanceUnit.ANGSTROM\n",
    ")\n",
    "\n",
    "es_problem = driver.run()"
   ]
  },
  {
   "cell_type": "code",
   "execution_count": 3,
   "id": "10371ac2-2d2d-43d6-a439-bffb33a9dd2d",
   "metadata": {},
   "outputs": [
    {
     "name": "stdout",
     "output_type": "stream",
     "text": [
      "<qiskit_nature.second_q.problems.electronic_structure_problem.ElectronicStructureProblem object at 0x7fddeb638f70>\n",
      "CPU times: user 409 ms, sys: 3.7 ms, total: 413 ms\n",
      "Wall time: 411 ms\n"
     ]
    }
   ],
   "source": [
    "%%time\n",
    "problem=driver.run()\n",
    "print(problem)"
   ]
  },
  {
   "cell_type": "code",
   "execution_count": 4,
   "id": "127b1bda-e1a4-4df4-9cfb-9fd03d21116a",
   "metadata": {},
   "outputs": [
    {
     "name": "stdout",
     "output_type": "stream",
     "text": [
      "(9, 9)\n",
      "16\n"
     ]
    }
   ],
   "source": [
    "print(problem.num_particles)\n",
    "print(problem.num_spatial_orbitals)"
   ]
  },
  {
   "cell_type": "markdown",
   "id": "a1373aa7-c38e-41a1-967c-8b122f4ea689",
   "metadata": {},
   "source": [
    "## Active Space Transformer"
   ]
  },
  {
   "cell_type": "code",
   "execution_count": 5,
   "id": "565a6c5f-08d8-472a-8100-b83e5d943d78",
   "metadata": {},
   "outputs": [],
   "source": [
    "as_transformer = ActiveSpaceTransformer(2, 2, active_orbitals=[8, 9]) \n"
   ]
  },
  {
   "cell_type": "code",
   "execution_count": 6,
   "id": "0989b802-89cc-4c7e-8c42-412015cd4bef",
   "metadata": {},
   "outputs": [
    {
     "name": "stdout",
     "output_type": "stream",
     "text": [
      "CPU times: user 22.1 ms, sys: 252 µs, total: 22.4 ms\n",
      "Wall time: 54.2 ms\n"
     ]
    }
   ],
   "source": [
    "%%time\n",
    "problem2 = as_transformer.transform(problem)"
   ]
  },
  {
   "cell_type": "code",
   "execution_count": 7,
   "id": "8e11e855-67a8-4938-8f7a-7ebf0d473383",
   "metadata": {},
   "outputs": [
    {
     "name": "stdout",
     "output_type": "stream",
     "text": [
      "(1, 1)\n",
      "2\n"
     ]
    }
   ],
   "source": [
    "print(problem2.num_particles)\n",
    "print(problem2.num_spatial_orbitals)"
   ]
  },
  {
   "cell_type": "code",
   "execution_count": 8,
   "id": "da2b7acc-1731-4709-938e-eecdc1565cb3",
   "metadata": {},
   "outputs": [],
   "source": [
    "fermionic_op = problem2.hamiltonian.second_q_op()"
   ]
  },
  {
   "cell_type": "code",
   "execution_count": 9,
   "id": "216a3c33-a1d7-4064-b03b-93d07aba0250",
   "metadata": {},
   "outputs": [
    {
     "name": "stdout",
     "output_type": "stream",
     "text": [
      "CPU times: user 50.2 ms, sys: 0 ns, total: 50.2 ms\n",
      "Wall time: 87.5 ms\n"
     ]
    },
    {
     "data": {
      "text/plain": [
       "4"
      ]
     },
     "execution_count": 9,
     "metadata": {},
     "output_type": "execute_result"
    }
   ],
   "source": [
    "%%time\n",
    "qubit_jw_op = JordanWignerMapper().map(fermionic_op)\n",
    "\n",
    "qubit_jw_op.num_qubits"
   ]
  },
  {
   "cell_type": "code",
   "execution_count": 10,
   "id": "95384580-990a-4c45-a08f-93aabfcbdfe5",
   "metadata": {},
   "outputs": [
    {
     "data": {
      "text/plain": [
       "(16, 16)"
      ]
     },
     "execution_count": 10,
     "metadata": {},
     "output_type": "execute_result"
    }
   ],
   "source": [
    "fermionic_op.to_matrix().toarray().shape"
   ]
  },
  {
   "cell_type": "code",
   "execution_count": 11,
   "id": "99dd6b35-0093-4f7b-b009-674b269644bf",
   "metadata": {},
   "outputs": [
    {
     "name": "stdout",
     "output_type": "stream",
     "text": [
      "2\n"
     ]
    }
   ],
   "source": [
    "from qiskit_nature.second_q.mappers import QubitConverter\n",
    "\n",
    "\n",
    "converter = QubitConverter(JordanWignerMapper(), z2symmetry_reduction=\"auto\")\n",
    "\n",
    "qubit_jw_op = converter.convert(fermionic_op, sector_locator=problem2.symmetry_sector_locator)\n",
    "print(qubit_jw_op.num_qubits)"
   ]
  },
  {
   "cell_type": "markdown",
   "id": "080162fe-ee39-428d-9376-1749fc92b183",
   "metadata": {},
   "source": [
    "## VQE"
   ]
  },
  {
   "cell_type": "code",
   "execution_count": 12,
   "id": "a85f126c-99cc-4ae6-ad7d-51ede558a4a3",
   "metadata": {},
   "outputs": [],
   "source": [
    "from qiskit.algorithms.optimizers import SLSQP\n",
    "from qiskit.primitives import Estimator\n",
    "from qiskit_nature.second_q.algorithms import VQEUCCFactory\n",
    "from qiskit_nature.second_q.circuit.library import UCCSD\n",
    "\n",
    "vqe_solver = VQEUCCFactory(Estimator(), UCCSD(qubit_converter=converter), SLSQP())"
   ]
  },
  {
   "cell_type": "code",
   "execution_count": 13,
   "id": "932bd112-6fed-4680-bf32-9609ad9d18bc",
   "metadata": {},
   "outputs": [],
   "source": [
    "from qiskit.algorithms.minimum_eigensolvers import VQE\n",
    "from qiskit.circuit.library import TwoLocal\n",
    "\n",
    "tl_circuit = TwoLocal(\n",
    "    rotation_blocks=[\"h\", \"rx\"],\n",
    "    entanglement_blocks=\"cz\",\n",
    "    entanglement=\"full\",\n",
    "    reps=2,\n",
    "    parameter_prefix=\"y\",\n",
    ")"
   ]
  },
  {
   "cell_type": "code",
   "execution_count": 14,
   "id": "2e5487ce-e1fb-413f-bdc9-51c37bfe4205",
   "metadata": {},
   "outputs": [
    {
     "name": "stdout",
     "output_type": "stream",
     "text": [
      "CPU times: user 17 µs, sys: 3 µs, total: 20 µs\n",
      "Wall time: 24.1 µs\n"
     ]
    }
   ],
   "source": [
    "%%time\n",
    "from qiskit_nature.second_q.algorithms import GroundStateEigensolver\n",
    "\n",
    "calc = GroundStateEigensolver(converter, vqe_solver)"
   ]
  },
  {
   "cell_type": "code",
   "execution_count": 15,
   "id": "077a26b9-41dd-44fc-9dd5-02a490b47014",
   "metadata": {},
   "outputs": [
    {
     "name": "stdout",
     "output_type": "stream",
     "text": [
      "=== GROUND STATE ENERGY ===\n",
      " \n",
      "* Electronic ground state energy (Hartree): -120.411405723879\n",
      "  - computed part:      -1.298683705436\n",
      "  - ActiveSpaceTransformer extracted energy part: -119.112722018443\n",
      "~ Nuclear repulsion energy (Hartree): 42.105607210653\n",
      "> Total ground state energy (Hartree): -78.305798513227\n",
      " \n",
      "=== MEASURED OBSERVABLES ===\n",
      " \n",
      "  0:  # Particles: 2.000 S: 0.000 S^2: 0.000 M: 0.000\n",
      " \n",
      "=== DIPOLE MOMENTS ===\n",
      " \n",
      "~ Nuclear dipole moment (a.u.): [0.0  0.00000378  0.0]\n",
      " \n",
      "  0: \n",
      "  * Electronic dipole moment (a.u.): [0.0  0.00000438  0.0]\n",
      "    - computed part:      [0.0  -0.00156427  0.0]\n",
      "    - ActiveSpaceTransformer extracted energy part: [0.0  0.00156865  0.0]\n",
      "  > Dipole moment (a.u.): [0.0  -0.0000006  0.0]  Total: 0.0000006\n",
      "                 (debye): [0.0  -0.00000153  0.0]  Total: 0.00000153\n",
      " \n",
      "CPU times: user 308 ms, sys: 15.7 ms, total: 324 ms\n",
      "Wall time: 414 ms\n"
     ]
    }
   ],
   "source": [
    "%%time\n",
    "res = calc.solve(problem2)\n",
    "print(res)"
   ]
  },
  {
   "cell_type": "code",
   "execution_count": null,
   "id": "6768439b-0044-49c9-9a66-8d84bd7f77f5",
   "metadata": {},
   "outputs": [],
   "source": []
  },
  {
   "cell_type": "code",
   "execution_count": null,
   "id": "0198d227-b57e-423c-8d8f-bdae9c219d56",
   "metadata": {},
   "outputs": [],
   "source": []
  },
  {
   "cell_type": "code",
   "execution_count": null,
   "id": "92b06a54-d0f8-4f0d-8c8b-104e355098e1",
   "metadata": {},
   "outputs": [],
   "source": []
  }
 ],
 "metadata": {
  "kernelspec": {
   "display_name": "Python 3 (ipykernel)",
   "language": "python",
   "name": "python3"
  },
  "language_info": {
   "codemirror_mode": {
    "name": "ipython",
    "version": 3
   },
   "file_extension": ".py",
   "mimetype": "text/x-python",
   "name": "python",
   "nbconvert_exporter": "python",
   "pygments_lexer": "ipython3",
   "version": "3.9.13"
  }
 },
 "nbformat": 4,
 "nbformat_minor": 5
}
