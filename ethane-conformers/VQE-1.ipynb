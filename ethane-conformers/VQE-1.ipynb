{
 "cells": [
  {
   "cell_type": "code",
   "execution_count": 1,
   "id": "e4056da5-fd71-4ab1-955f-1c98de71788a",
   "metadata": {},
   "outputs": [],
   "source": [
    "from qiskit_nature.units import DistanceUnit                                  #Angstrom unit\n",
    "from qiskit_nature.second_q.drivers import PySCFDriver                        #PySCF Driver\n",
    "from qiskit_nature.second_q.transformers import ActiveSpaceTransformer        #ActiveSpaceTransformer\n",
    "from qiskit_nature.second_q.mappers import JordanWignerMapper                 #Mappers\n"
   ]
  },
  {
   "cell_type": "code",
   "execution_count": 2,
   "id": "8ab26b0a-8d3a-4dc1-8a50-880f68f07ea1",
   "metadata": {},
   "outputs": [
    {
     "name": "stdout",
     "output_type": "stream",
     "text": [
      "CPU times: user 614 ms, sys: 75.9 ms, total: 690 ms\n",
      "Wall time: 2.31 s\n"
     ]
    }
   ],
   "source": [
    "%%time\n",
    "ethylene=\"C 0.00000000 0.00000000 0.76532900; H -0.51007400 0.88446900 1.16448900; H 1.02100900   -0.00049700    1.16448900; H -0.51093500   -0.88397100    1.16448900;  C 0.00000000 0.00000000 -0.76532900; H 0.51093500 -0.88397100 -1.164489; H -1.02100900 -0.00049700 -1.16448900; H 0.51007400 0.88446900 -1.16448900\"\n",
    "driver = PySCFDriver(\n",
    "    \n",
    "    \n",
    "    atom=ethylene,\n",
    "       \n",
    "    \n",
    "    basis=\"sto3g\",\n",
    "    charge=0,\n",
    "    spin=0,\n",
    "    unit=DistanceUnit.ANGSTROM\n",
    ")\n",
    "\n",
    "es_problem = driver.run()"
   ]
  },
  {
   "cell_type": "code",
   "execution_count": 3,
   "id": "10371ac2-2d2d-43d6-a439-bffb33a9dd2d",
   "metadata": {},
   "outputs": [
    {
     "name": "stdout",
     "output_type": "stream",
     "text": [
      "<qiskit_nature.second_q.problems.electronic_structure_problem.ElectronicStructureProblem object at 0x7f54d7c8d040>\n",
      "CPU times: user 435 ms, sys: 2.6 ms, total: 438 ms\n",
      "Wall time: 439 ms\n"
     ]
    }
   ],
   "source": [
    "%%time\n",
    "problem=driver.run()\n",
    "print(problem)"
   ]
  },
  {
   "cell_type": "code",
   "execution_count": 4,
   "id": "127b1bda-e1a4-4df4-9cfb-9fd03d21116a",
   "metadata": {},
   "outputs": [
    {
     "name": "stdout",
     "output_type": "stream",
     "text": [
      "(9, 9)\n",
      "16\n"
     ]
    }
   ],
   "source": [
    "print(problem.num_particles)\n",
    "print(problem.num_spatial_orbitals)"
   ]
  },
  {
   "cell_type": "code",
   "execution_count": 27,
   "id": "565a6c5f-08d8-472a-8100-b83e5d943d78",
   "metadata": {},
   "outputs": [],
   "source": [
    "as_transformer = ActiveSpaceTransformer(2, 2, active_orbitals=[8, 9]) \n"
   ]
  },
  {
   "cell_type": "code",
   "execution_count": 28,
   "id": "0989b802-89cc-4c7e-8c42-412015cd4bef",
   "metadata": {},
   "outputs": [
    {
     "name": "stdout",
     "output_type": "stream",
     "text": [
      "CPU times: user 43.5 ms, sys: 8 ms, total: 51.5 ms\n",
      "Wall time: 1.78 s\n"
     ]
    }
   ],
   "source": [
    "%%time\n",
    "problem2 = as_transformer.transform(problem)"
   ]
  },
  {
   "cell_type": "code",
   "execution_count": 7,
   "id": "8e11e855-67a8-4938-8f7a-7ebf0d473383",
   "metadata": {},
   "outputs": [
    {
     "name": "stdout",
     "output_type": "stream",
     "text": [
      "(1, 1)\n",
      "2\n"
     ]
    }
   ],
   "source": [
    "print(problem2.num_particles)\n",
    "print(problem2.num_spatial_orbitals)"
   ]
  },
  {
   "cell_type": "code",
   "execution_count": 8,
   "id": "da2b7acc-1731-4709-938e-eecdc1565cb3",
   "metadata": {},
   "outputs": [],
   "source": [
    "fermionic_op = problem2.hamiltonian.second_q_op()"
   ]
  },
  {
   "cell_type": "code",
   "execution_count": 9,
   "id": "216a3c33-a1d7-4064-b03b-93d07aba0250",
   "metadata": {},
   "outputs": [
    {
     "name": "stdout",
     "output_type": "stream",
     "text": [
      "CPU times: user 55.6 ms, sys: 398 µs, total: 56 ms\n",
      "Wall time: 160 ms\n"
     ]
    },
    {
     "data": {
      "text/plain": [
       "4"
      ]
     },
     "execution_count": 9,
     "metadata": {},
     "output_type": "execute_result"
    }
   ],
   "source": [
    "%%time\n",
    "qubit_jw_op = JordanWignerMapper().map(fermionic_op)\n",
    "\n",
    "qubit_jw_op.num_qubits"
   ]
  },
  {
   "cell_type": "code",
   "execution_count": 10,
   "id": "95384580-990a-4c45-a08f-93aabfcbdfe5",
   "metadata": {},
   "outputs": [
    {
     "data": {
      "text/plain": [
       "(16, 16)"
      ]
     },
     "execution_count": 10,
     "metadata": {},
     "output_type": "execute_result"
    }
   ],
   "source": [
    "fermionic_op.to_matrix().toarray().shape"
   ]
  },
  {
   "cell_type": "code",
   "execution_count": 11,
   "id": "99dd6b35-0093-4f7b-b009-674b269644bf",
   "metadata": {},
   "outputs": [
    {
     "name": "stdout",
     "output_type": "stream",
     "text": [
      "2\n"
     ]
    }
   ],
   "source": [
    "from qiskit_nature.second_q.mappers import QubitConverter\n",
    "\n",
    "\n",
    "converter = QubitConverter(JordanWignerMapper(), z2symmetry_reduction=\"auto\")\n",
    "\n",
    "qubit_jw_op = converter.convert(fermionic_op, sector_locator=problem2.symmetry_sector_locator)\n",
    "print(qubit_jw_op.num_qubits)"
   ]
  },
  {
   "cell_type": "code",
   "execution_count": 12,
   "id": "a85f126c-99cc-4ae6-ad7d-51ede558a4a3",
   "metadata": {},
   "outputs": [],
   "source": [
    "from qiskit.algorithms.optimizers import SLSQP\n",
    "from qiskit.primitives import Estimator\n",
    "from qiskit_nature.second_q.algorithms import VQEUCCFactory\n",
    "from qiskit_nature.second_q.circuit.library import UCCSD\n",
    "\n",
    "vqe_solver = VQEUCCFactory(Estimator(), UCCSD(qubit_converter=converter), SLSQP())"
   ]
  },
  {
   "cell_type": "code",
   "execution_count": 13,
   "id": "932bd112-6fed-4680-bf32-9609ad9d18bc",
   "metadata": {},
   "outputs": [],
   "source": [
    "from qiskit.algorithms.minimum_eigensolvers import VQE\n",
    "from qiskit.circuit.library import TwoLocal\n",
    "\n",
    "tl_circuit = TwoLocal(\n",
    "    rotation_blocks=[\"h\", \"rx\"],\n",
    "    entanglement_blocks=\"cz\",\n",
    "    entanglement=\"full\",\n",
    "    reps=2,\n",
    "    parameter_prefix=\"y\",\n",
    ")"
   ]
  },
  {
   "cell_type": "code",
   "execution_count": 14,
   "id": "2e5487ce-e1fb-413f-bdc9-51c37bfe4205",
   "metadata": {},
   "outputs": [
    {
     "name": "stdout",
     "output_type": "stream",
     "text": [
      "CPU times: user 16 µs, sys: 3 µs, total: 19 µs\n",
      "Wall time: 22.9 µs\n"
     ]
    }
   ],
   "source": [
    "%%time\n",
    "from qiskit_nature.second_q.algorithms import GroundStateEigensolver\n",
    "\n",
    "calc = GroundStateEigensolver(converter, vqe_solver)"
   ]
  },
  {
   "cell_type": "code",
   "execution_count": 34,
   "id": "077a26b9-41dd-44fc-9dd5-02a490b47014",
   "metadata": {},
   "outputs": [
    {
     "ename": "AlgorithmError",
     "evalue": "'The number of qubits of the ansatz does not match the operator, and the ansatz does not allow setting the number of qubits using `num_qubits`.'",
     "output_type": "error",
     "traceback": [
      "\u001b[0;31m---------------------------------------------------------------------------\u001b[0m",
      "\u001b[0;31mAttributeError\u001b[0m                            Traceback (most recent call last)",
      "\u001b[0;32m~/Apps/anaconda3/lib/python3.9/site-packages/qiskit/algorithms/minimum_eigensolvers/vqe.py\u001b[0m in \u001b[0;36m_check_operator_ansatz\u001b[0;34m(self, operator)\u001b[0m\n\u001b[1;32m    310\u001b[0m                 )\n\u001b[0;32m--> 311\u001b[0;31m                 \u001b[0mself\u001b[0m\u001b[0;34m.\u001b[0m\u001b[0mansatz\u001b[0m\u001b[0;34m.\u001b[0m\u001b[0mnum_qubits\u001b[0m \u001b[0;34m=\u001b[0m \u001b[0moperator\u001b[0m\u001b[0;34m.\u001b[0m\u001b[0mnum_qubits\u001b[0m\u001b[0;34m\u001b[0m\u001b[0;34m\u001b[0m\u001b[0m\n\u001b[0m\u001b[1;32m    312\u001b[0m             \u001b[0;32mexcept\u001b[0m \u001b[0mAttributeError\u001b[0m \u001b[0;32mas\u001b[0m \u001b[0merror\u001b[0m\u001b[0;34m:\u001b[0m\u001b[0;34m\u001b[0m\u001b[0;34m\u001b[0m\u001b[0m\n",
      "\u001b[0;31mAttributeError\u001b[0m: can't set attribute",
      "\nThe above exception was the direct cause of the following exception:\n",
      "\u001b[0;31mAlgorithmError\u001b[0m                            Traceback (most recent call last)",
      "\u001b[0;32m<timed exec>\u001b[0m in \u001b[0;36m<module>\u001b[0;34m\u001b[0m\n",
      "\u001b[0;32m~/Apps/anaconda3/lib/python3.9/site-packages/qiskit_nature/second_q/algorithms/ground_state_solvers/ground_state_eigensolver.py\u001b[0m in \u001b[0;36msolve\u001b[0;34m(self, problem, aux_operators)\u001b[0m\n\u001b[1;32m     75\u001b[0m         \"\"\"\n\u001b[1;32m     76\u001b[0m         \u001b[0mmain_operator\u001b[0m\u001b[0;34m,\u001b[0m \u001b[0maux_ops\u001b[0m \u001b[0;34m=\u001b[0m \u001b[0mself\u001b[0m\u001b[0;34m.\u001b[0m\u001b[0mget_qubit_operators\u001b[0m\u001b[0;34m(\u001b[0m\u001b[0mproblem\u001b[0m\u001b[0;34m,\u001b[0m \u001b[0maux_operators\u001b[0m\u001b[0;34m)\u001b[0m\u001b[0;34m\u001b[0m\u001b[0;34m\u001b[0m\u001b[0m\n\u001b[0;32m---> 77\u001b[0;31m         raw_mes_result = self.solver.compute_minimum_eigenvalue(  # type: ignore\n\u001b[0m\u001b[1;32m     78\u001b[0m             \u001b[0mmain_operator\u001b[0m\u001b[0;34m,\u001b[0m \u001b[0maux_ops\u001b[0m\u001b[0;34m\u001b[0m\u001b[0;34m\u001b[0m\u001b[0m\n\u001b[1;32m     79\u001b[0m         )\n",
      "\u001b[0;32m~/Apps/anaconda3/lib/python3.9/site-packages/qiskit/algorithms/minimum_eigensolvers/vqe.py\u001b[0m in \u001b[0;36mcompute_minimum_eigenvalue\u001b[0;34m(self, operator, aux_operators)\u001b[0m\n\u001b[1;32m    164\u001b[0m         \u001b[0maux_operators\u001b[0m\u001b[0;34m:\u001b[0m \u001b[0mListOrDict\u001b[0m\u001b[0;34m[\u001b[0m\u001b[0mBaseOperator\u001b[0m \u001b[0;34m|\u001b[0m \u001b[0mPauliSumOp\u001b[0m\u001b[0;34m]\u001b[0m \u001b[0;34m|\u001b[0m \u001b[0;32mNone\u001b[0m \u001b[0;34m=\u001b[0m \u001b[0;32mNone\u001b[0m\u001b[0;34m,\u001b[0m\u001b[0;34m\u001b[0m\u001b[0;34m\u001b[0m\u001b[0m\n\u001b[1;32m    165\u001b[0m     ) -> VQEResult:\n\u001b[0;32m--> 166\u001b[0;31m         \u001b[0mself\u001b[0m\u001b[0;34m.\u001b[0m\u001b[0m_check_operator_ansatz\u001b[0m\u001b[0;34m(\u001b[0m\u001b[0moperator\u001b[0m\u001b[0;34m)\u001b[0m\u001b[0;34m\u001b[0m\u001b[0;34m\u001b[0m\u001b[0m\n\u001b[0m\u001b[1;32m    167\u001b[0m \u001b[0;34m\u001b[0m\u001b[0m\n\u001b[1;32m    168\u001b[0m         \u001b[0minitial_point\u001b[0m \u001b[0;34m=\u001b[0m \u001b[0mvalidate_initial_point\u001b[0m\u001b[0;34m(\u001b[0m\u001b[0mself\u001b[0m\u001b[0;34m.\u001b[0m\u001b[0minitial_point\u001b[0m\u001b[0;34m,\u001b[0m \u001b[0mself\u001b[0m\u001b[0;34m.\u001b[0m\u001b[0mansatz\u001b[0m\u001b[0;34m)\u001b[0m\u001b[0;34m\u001b[0m\u001b[0;34m\u001b[0m\u001b[0m\n",
      "\u001b[0;32m~/Apps/anaconda3/lib/python3.9/site-packages/qiskit/algorithms/minimum_eigensolvers/vqe.py\u001b[0m in \u001b[0;36m_check_operator_ansatz\u001b[0;34m(self, operator)\u001b[0m\n\u001b[1;32m    311\u001b[0m                 \u001b[0mself\u001b[0m\u001b[0;34m.\u001b[0m\u001b[0mansatz\u001b[0m\u001b[0;34m.\u001b[0m\u001b[0mnum_qubits\u001b[0m \u001b[0;34m=\u001b[0m \u001b[0moperator\u001b[0m\u001b[0;34m.\u001b[0m\u001b[0mnum_qubits\u001b[0m\u001b[0;34m\u001b[0m\u001b[0;34m\u001b[0m\u001b[0m\n\u001b[1;32m    312\u001b[0m             \u001b[0;32mexcept\u001b[0m \u001b[0mAttributeError\u001b[0m \u001b[0;32mas\u001b[0m \u001b[0merror\u001b[0m\u001b[0;34m:\u001b[0m\u001b[0;34m\u001b[0m\u001b[0;34m\u001b[0m\u001b[0m\n\u001b[0;32m--> 313\u001b[0;31m                 raise AlgorithmError(\n\u001b[0m\u001b[1;32m    314\u001b[0m                     \u001b[0;34m\"The number of qubits of the ansatz does not match the \"\u001b[0m\u001b[0;34m\u001b[0m\u001b[0;34m\u001b[0m\u001b[0m\n\u001b[1;32m    315\u001b[0m                     \u001b[0;34m\"operator, and the ansatz does not allow setting the \"\u001b[0m\u001b[0;34m\u001b[0m\u001b[0;34m\u001b[0m\u001b[0m\n",
      "\u001b[0;31mAlgorithmError\u001b[0m: 'The number of qubits of the ansatz does not match the operator, and the ansatz does not allow setting the number of qubits using `num_qubits`.'"
     ]
    }
   ],
   "source": [
    "%%time\n",
    "res = calc.solve(problem2)\n",
    "print(res)"
   ]
  },
  {
   "cell_type": "code",
   "execution_count": 35,
   "id": "6768439b-0044-49c9-9a66-8d84bd7f77f5",
   "metadata": {},
   "outputs": [
    {
     "data": {
      "text/plain": [
       "TaperedPauliSumOp(SparsePauliOp(['II', 'IZ', 'IX', 'ZI', 'XI', 'ZZ', 'ZX', 'XZ', 'XX'],\n",
       "              coeffs=[-4.97932605e-01+0.j, -4.12410016e-01+0.j,  2.36530495e-06+0.j,\n",
       " -4.12410016e-01+0.j,  2.36530495e-06+0.j,  2.43340865e-02+0.j,\n",
       " -2.36506888e-06+0.j, -2.36506888e-06+0.j,  2.09160604e-02+0.j]), coeff=1.0)"
      ]
     },
     "execution_count": 35,
     "metadata": {},
     "output_type": "execute_result"
    }
   ],
   "source": [
    "qubit_jw_op"
   ]
  },
  {
   "cell_type": "code",
   "execution_count": null,
   "id": "0198d227-b57e-423c-8d8f-bdae9c219d56",
   "metadata": {},
   "outputs": [],
   "source": []
  }
 ],
 "metadata": {
  "kernelspec": {
   "display_name": "Python 3 (ipykernel)",
   "language": "python",
   "name": "python3"
  },
  "language_info": {
   "codemirror_mode": {
    "name": "ipython",
    "version": 3
   },
   "file_extension": ".py",
   "mimetype": "text/x-python",
   "name": "python",
   "nbconvert_exporter": "python",
   "pygments_lexer": "ipython3",
   "version": "3.9.13"
  }
 },
 "nbformat": 4,
 "nbformat_minor": 5
}
