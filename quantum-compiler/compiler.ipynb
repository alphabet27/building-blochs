{
 "cells": [
  {
   "cell_type": "markdown",
   "id": "b6a55162-03f7-48d3-ada7-456bcfac695a",
   "metadata": {},
   "source": [
    "# Quantum Compiler Challenge\n",
    "\n",
    "The task is to build a compiler that can execute and interpret a quantum circuit and establish connectivity with the Quantum Device."
   ]
  },
  {
   "cell_type": "markdown",
   "id": "7173edef-71cd-4618-8303-9880bc13f91d",
   "metadata": {
    "tags": []
   },
   "source": [
    "## Beginners guide to qubits and quantum computers\n",
    "</br>\n",
    "<details>\n",
    "    <summary><font color=\"blue\"><u>You may read more about Quantum bits (Qubits) before beginning or skip this section</font></u></summary>\n",
    "\n",
    "Quantum bits (qubits) can be represented by spin 1/2 particles\n",
    "\n",
    "One can represent these states as the following matrices \n",
    "\n",
    "$ |X\\rangle_+ = \\frac{1}{\\sqrt{2}} \\pmatrix{1 \\\\ +1} $ & $ |X\\rangle_- = \\frac{1}{\\sqrt{2}} \\pmatrix{1 \\\\ -1} $</br></br>\n",
    "$ |Y\\rangle_+ = \\frac{1}{\\sqrt{2}} \\pmatrix{1 \\\\ +i} $ & $ |Y\\rangle_- = \\frac{1}{\\sqrt{2}} \\pmatrix{1 \\\\ -i} $</br></br>\n",
    "$ |Z\\rangle_+ = |0\\rangle = \\pmatrix{1 \\\\ 0} $ & $ |Z\\rangle_- = |1\\rangle  = \\pmatrix{0 \\\\ 1} $\n",
    "\n",
    "The z axis is taken as a standard basis.\n",
    "\n",
    "The qubit can be pointing in any direction and can be represented by $ |\\psi \\rangle = \\pmatrix{c_0 \\\\ c_1} $ where $c_0$ and $c_1$ are complex numbers and $|c_0|^2 + |c_1|^2 = 1$\n",
    "\n",
    "Upon measurement, we will find the system to be in state $|0\\rangle$ with probability $|c_0|^2$ and in $|1\\rangle$ with probability $|c_1|^2$\n",
    "\n",
    "If the system has two qubits, the total quantum state is given by a four vector as follows\n",
    "$ |\\psi \\rangle = \\pmatrix{c_{00} \\\\ c_{01} \\\\ c_{10} \\\\ c_{11}} $"
   ]
  },
  {
   "cell_type": "markdown",
   "id": "2e1cfe6b-d5b1-4424-af6a-2c42defa4df5",
   "metadata": {
    "tags": []
   },
   "source": [
    "## Instructions\n",
    "\n",
    "A quantum compiler is a program that breaks a quantum circuit into a set of basic gates and sends it to the quantum device\n",
    "\n",
    "Following are the basic gates of the quantum computer we are about to use. (IBM r4T)\n",
    "<div class=\"alert alert-block alert-success\">\n",
    "<p style=\"font-family:'Lucida Console', monospace\">\n",
    "    Basic - [CX, ID, RZ(theta), SX, X, measure(to_bit)] </p>\n",
    "\n",
    "</div>\n",
    "<details>\n",
    "    <summary><font color=\"blue\"><u>Click to view the gate matrices</u></font></summary>\n",
    "    <p style=\"font-family:'Lucida Console', monospace\">\n",
    "        CX = $\\pmatrix{1 && 0 && 0 && 0 \\\\ 0 && 1 && 0 && 0 \\\\ 0 && 0 && 0 && 1 \\\\ 0 && 0 && 1 && 0}$ </br></br>\n",
    "        ID = $\\pmatrix{1 && 0 \\\\ 0 && 1}$ </br></br>\n",
    "        RZ = $\\pmatrix{1 && 0 \\\\ 0 && e^{i \\theta}}$ </br></br>\n",
    "        SX = $\\frac{1}{2}\\pmatrix{1+i && 1-i \\\\ 1-i && 1+i}$ </br></br>\n",
    "         X = $\\pmatrix{0 && 1 \\\\ 1 && 0}$ </br></br>\n",
    "    </p>\n",
    "</details></br>\n",
    "\n",
    "The input to the compiler will be a list in the following format\n",
    "\n",
    "<div class=\"alert alert-block alert-info\">\n",
    "<p style=\"font-family:'Lucida Console', monospace\">\n",
    "Input - [[list1],[list2]]  where </br>\n",
    "list1 = [num_qubits_qr , num_bits_cr]  and </br>\n",
    "list2 = [[list2_1],[list2_2],[list2_3]...] where </br>\n",
    ".... list2_i = [gate,qubit_no]\n",
    "    </p>\n",
    "</div>\n",
    "\n",
    "<span style=\"color:red\"> <b>Note - Qubits are numbered from $0$ to $n-1$</b>\n",
    "    \n",
    "The circuit will be executed on an IBMQ r4T processor which looks as shown </br>\n",
    "<img src=\"ibmq_quito.png\">"
   ]
  },
  {
   "cell_type": "markdown",
   "id": "73e9b02a-2a64-4040-a7d8-fb67cd454dd7",
   "metadata": {
    "tags": []
   },
   "source": [
    "## Sample Input"
   ]
  },
  {
   "cell_type": "code",
   "execution_count": 1,
   "id": "c3bcd07d-79be-4d21-9821-a15e707a8594",
   "metadata": {},
   "outputs": [],
   "source": [
    "sample_input = [[[5,4]],[[\"CCX\",[0,1,2]],[\"RX(0.5773100)\",2],[\"H\",0],[\"CX\",3,1],[\"measure(1)\",2],[\"measure(0)\",0],[\"measure(3)\",4]]]"
   ]
  },
  {
   "cell_type": "markdown",
   "id": "2eacb027-0285-49dc-9951-2185286b494a",
   "metadata": {},
   "source": [
    "The above cell is a sample input of the following circuit.\n",
    "\n",
    "<img src=\"sample.png\" width=\"400\" height=\"500\">"
   ]
  },
  {
   "cell_type": "code",
   "execution_count": 2,
   "id": "9628ade5-14c6-486f-b616-d3867c5dbfc6",
   "metadata": {},
   "outputs": [],
   "source": [
    "# Compile the input (like the sample_input) according to the IBM r4T design.\n",
    "\n",
    "\n",
    "# You may do further optimizations like adding or removing gates if you wish to.\n",
    "\n"
   ]
  }
 ],
 "metadata": {
  "kernelspec": {
   "display_name": "Python 3 (ipykernel)",
   "language": "python",
   "name": "python3"
  },
  "language_info": {
   "codemirror_mode": {
    "name": "ipython",
    "version": 3
   },
   "file_extension": ".py",
   "mimetype": "text/x-python",
   "name": "python",
   "nbconvert_exporter": "python",
   "pygments_lexer": "ipython3",
   "version": "3.9.13"
  }
 },
 "nbformat": 4,
 "nbformat_minor": 5
}
