{
 "cells": [
  {
   "cell_type": "markdown",
   "id": "b6a55162-03f7-48d3-ada7-456bcfac695a",
   "metadata": {},
   "source": [
    "# Quantum Compiler Challenge\n",
    "\n",
    "The task is to build a compiler that can execute and interpret a quantum circuit and establish connectivity with the Quantum Device."
   ]
  },
  {
   "cell_type": "code",
   "execution_count": null,
   "id": "b515ee38-1e37-4467-8fd5-e29cea010373",
   "metadata": {},
   "outputs": [],
   "source": []
  }
 ],
 "metadata": {
  "kernelspec": {
   "display_name": "Python 3 (ipykernel)",
   "language": "python",
   "name": "python3"
  },
  "language_info": {
   "codemirror_mode": {
    "name": "ipython",
    "version": 3
   },
   "file_extension": ".py",
   "mimetype": "text/x-python",
   "name": "python",
   "nbconvert_exporter": "python",
   "pygments_lexer": "ipython3",
   "version": "3.9.13"
  }
 },
 "nbformat": 4,
 "nbformat_minor": 5
}
