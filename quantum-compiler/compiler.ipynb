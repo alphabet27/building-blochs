{
 "cells": [
  {
   "cell_type": "markdown",
   "id": "b6a55162-03f7-48d3-ada7-456bcfac695a",
   "metadata": {},
   "source": [
    "# Quantum Compiler Challenge\n",
    "\n",
    "The task is to build a compiler that can execute and interpret a quantum circuit and establish connectivity with the Quantum Device."
   ]
  },
  {
   "cell_type": "markdown",
   "id": "2e1cfe6b-d5b1-4424-af6a-2c42defa4df5",
   "metadata": {},
   "source": [
    "## Instructions\n",
    "\n",
    "A quantum compiler is a program that breaks a quantum circuit into a set of basic gates and swaps and sends it to the quantum device\n",
    "\n",
    "Following are the basic gates of a quantum computer \n",
    "<div class=\"alert alert-block alert-success\">\n",
    "<p style=\"font-family:'Lucida Console', monospace\">\n",
    "    Basic - [H , CX , X , Z , T , RZ(theta), SWAP(with), measure(to_bit)] </p></div>\n",
    "\n",
    "The input to the compiler will be a list in the following format\n",
    "\n",
    "<div class=\"alert alert-block alert-info\">\n",
    "<p style=\"font-family:'Lucida Console', monospace\">\n",
    "Input - [[list1],[list2]]  where </br>\n",
    "list1 = [num_qubits_qr , num_bits_cr]  and </br>\n",
    "list2 = [[list2_1],[list2_2],[list2_3]...] where </br>\n",
    ".... list2_i = [gate,qubit_no]\n",
    "    </p>\n",
    "</div>\n",
    "\n",
    "<span style=\"color:red\"> *<b>Note - Qubits are numbered from $0$ to $n-1$*</b>"
   ]
  },
  {
   "cell_type": "markdown",
   "id": "73e9b02a-2a64-4040-a7d8-fb67cd454dd7",
   "metadata": {},
   "source": [
    "## Sample Input"
   ]
  },
  {
   "cell_type": "code",
   "execution_count": 1,
   "id": "c3bcd07d-79be-4d21-9821-a15e707a8594",
   "metadata": {},
   "outputs": [],
   "source": [
    "sample_input = [[[5,4]],[[\"CCX\",[0,1,2]],[\"RX(0.5773100)\",2],[\"H\",0],[\"CX\",3,1],[\"measure(1)\",2],[\"measure(0)\",0],[\"measure(3)\",4]]]"
   ]
  },
  {
   "cell_type": "markdown",
   "id": "2eacb027-0285-49dc-9951-2185286b494a",
   "metadata": {},
   "source": [
    "The above cell is a sample input of the following circuit\n",
    "\n",
    "<img src=\"sample.jpg\" width=\"400\" height=\"500\">"
   ]
  },
  {
   "cell_type": "markdown",
   "id": "7173edef-71cd-4618-8303-9880bc13f91d",
   "metadata": {},
   "source": [
    "## Breaking the gates\n",
    "\n",
    "Quantum bits (qubits) can be represented by spin 1/2 particles and the spin can point in three directions viz $\\pm X$, $\\pm Y$ & $\\pm Z$\n",
    "\n",
    "One can represent these states as the following matrices \n",
    "\n",
    "$|X\\rangle_+ = \\frac{1}{\\sqrt{2}} \\pmatrix{1 \\\\ +1}$ & $|X\\rangle_- = \\frac{1}{\\sqrt{2}} \\pmatrix{1 \\\\ -1}$</br></br>\n",
    "$|Y\\rangle_+ = \\frac{1}{\\sqrt{2}} \\pmatrix{1 \\\\ +i}$ & $|Y\\rangle_- = \\frac{1}{\\sqrt{2}} \\pmatrix{1 \\\\ -i}$</br></br>\n",
    "$|Z\\rangle_+ = \\pmatrix{1 \\\\ 0}$ & $|Z\\rangle_-   = \\pmatrix{0 \\\\ 1}$\n",
    "\n",
    "The z axis is taken as a standard basis. It is suggested to define a function to convert sets of all gates into gates that work along Z axis. You may also work without it."
   ]
  },
  {
   "cell_type": "code",
   "execution_count": null,
   "id": "410b0c42-0561-4cda-9b42-3a4d33ab864c",
   "metadata": {},
   "outputs": [],
   "source": [
    "def convert(input):\n",
    "    #\n",
    "    # Your code here\n",
    "    #\n",
    "    return output"
   ]
  },
  {
   "cell_type": "markdown",
   "id": "c52a35db-d92b-4455-b7f4-fbea8dfe8b32",
   "metadata": {},
   "source": [
    "## Breaking the Toffoli gate.\n",
    "\n",
    "One may easily convert the CX gate into CY and CZ and do the same with rotations. However, it is not so easy to do the same with multiple controls. \n",
    "\n",
    "Refer to the IBMQ challenges on quantum hardware for clearer picture on how to break the toffoli gate"
   ]
  },
  {
   "cell_type": "code",
   "execution_count": null,
   "id": "dd38550a-a2b1-4d53-b835-4b3bb1d935f3",
   "metadata": {},
   "outputs": [],
   "source": []
  }
 ],
 "metadata": {
  "kernelspec": {
   "display_name": "Python 3 (ipykernel)",
   "language": "python",
   "name": "python3"
  },
  "language_info": {
   "codemirror_mode": {
    "name": "ipython",
    "version": 3
   },
   "file_extension": ".py",
   "mimetype": "text/x-python",
   "name": "python",
   "nbconvert_exporter": "python",
   "pygments_lexer": "ipython3",
   "version": "3.9.13"
  }
 },
 "nbformat": 4,
 "nbformat_minor": 5
}
