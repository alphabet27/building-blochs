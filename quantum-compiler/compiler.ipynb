{
 "cells": [
  {
   "cell_type": "markdown",
   "id": "b6a55162-03f7-48d3-ada7-456bcfac695a",
   "metadata": {},
   "source": [
    "# Quantum Compiler Challenge\n",
    "\n",
    "The task is to build a compiler that can execute and interpret a quantum circuit and establish connectivity with the Quantum Device."
   ]
  },
  {
   "cell_type": "markdown",
   "id": "2e1cfe6b-d5b1-4424-af6a-2c42defa4df5",
   "metadata": {},
   "source": [
    "## Instructions\n",
    "\n",
    "A quantum compiler is a program that breaks a quantum circuit into a set of basic gates and swaps and sends it to the quantum device\n",
    "\n",
    "Following are the basic gates of a quantum computer \n",
    "\n",
    "``` Basic - [H , CX , X , Z , T , SWAP, measure(qr,cr)] ```\n",
    "\n",
    "The input to the compiler will be a list in the following format\n",
    "\n",
    "``` Input - [[list1],[list2]] ``` where </br>\n",
    "```list1 = [num_quantum_registers , num_classical_registers] ``` and </br>\n",
    "```list2 = [[list2_1],[list2_2],[list2_3]...]``` where </br>\n",
    "```    list2_i = [quantum_register,gate,qubit_no]```"
   ]
  },
  {
   "cell_type": "code",
   "execution_count": null,
   "id": "1b04c789-96e7-4de1-99a0-3b2fdd317314",
   "metadata": {},
   "outputs": [],
   "source": []
  }
 ],
 "metadata": {
  "kernelspec": {
   "display_name": "Python 3 (ipykernel)",
   "language": "python",
   "name": "python3"
  },
  "language_info": {
   "codemirror_mode": {
    "name": "ipython",
    "version": 3
   },
   "file_extension": ".py",
   "mimetype": "text/x-python",
   "name": "python",
   "nbconvert_exporter": "python",
   "pygments_lexer": "ipython3",
   "version": "3.9.13"
  }
 },
 "nbformat": 4,
 "nbformat_minor": 5
}
